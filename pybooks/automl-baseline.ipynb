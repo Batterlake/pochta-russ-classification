{
 "cells": [
  {
   "cell_type": "markdown",
   "metadata": {
    "id": "fnE1_J-4dhSR"
   },
   "source": [
    "## Загрузим нужные библиотеки"
   ]
  },
  {
   "cell_type": "code",
   "execution_count": 1,
   "metadata": {
    "id": "uaKzqUxsdjDa"
   },
   "outputs": [],
   "source": [
    "import pandas as pd\n",
    "import seaborn as sns\n",
    "import matplotlib.pyplot as plt\n",
    "from sklearn.model_selection import train_test_split"
   ]
  },
  {
   "cell_type": "code",
   "execution_count": 2,
   "metadata": {
    "colab": {
     "base_uri": "https://localhost:8080/"
    },
    "id": "2scLoULoXkT0",
    "outputId": "f34d3abd-0c25-4cb1-bc9a-36e9a8739c3a"
   },
   "outputs": [
    {
     "name": "stderr",
     "output_type": "stream",
     "text": [
      "/tmp/ipykernel_2274959/1228758133.py:1: DtypeWarning: Columns (2) have mixed types. Specify dtype option on import or set low_memory=False.\n",
      "  df = pd.read_csv(\"../data/train_dataset_train.csv\")\n"
     ]
    }
   ],
   "source": [
    "df = pd.read_csv(\"../data/train_dataset_train.csv\")"
   ]
  },
  {
   "cell_type": "markdown",
   "metadata": {
    "id": "QTOLeRlMerAm"
   },
   "source": [
    "Эти категории можно сделать ранговыми "
   ]
  },
  {
   "cell_type": "code",
   "execution_count": 3,
   "metadata": {
    "id": "vdTdoZs293hM"
   },
   "outputs": [],
   "source": [
    "df[\"is_in_yandex\"] = df[\"is_in_yandex\"].astype('category').cat.codes\n",
    "df[\"is_return\"] = df[\"is_return\"].astype('category').cat.codes"
   ]
  },
  {
   "cell_type": "code",
   "execution_count": 4,
   "metadata": {
    "id": "at9QQkMNA-VV"
   },
   "outputs": [],
   "source": [
    "df = df.fillna(0)"
   ]
  },
  {
   "cell_type": "markdown",
   "metadata": {
    "id": "V-7e0uZ0As9z"
   },
   "source": [
    "Обьединим список не нужных строк с списком строк типа object"
   ]
  },
  {
   "cell_type": "code",
   "execution_count": 5,
   "metadata": {
    "id": "PYDt4hVn_GB9"
   },
   "outputs": [],
   "source": [
    "col_obj = df.select_dtypes(include=['object']).columns.values\n",
    "col_obj = list(set(col_obj) ^ set([\"id\", \"label\"]))"
   ]
  },
  {
   "cell_type": "code",
   "execution_count": 6,
   "metadata": {
    "colab": {
     "base_uri": "https://localhost:8080/"
    },
    "id": "lcpuRWOTAoGJ",
    "outputId": "5b4db5c0-e6f8-4208-b981-aafc9c5c23c5"
   },
   "outputs": [
    {
     "data": {
      "text/plain": [
       "['index_oper',\n",
       " 'is_privatecategory',\n",
       " 'type',\n",
       " 'oper_type + oper_attr',\n",
       " 'id',\n",
       " 'label',\n",
       " 'name_mfi']"
      ]
     },
     "execution_count": 6,
     "metadata": {},
     "output_type": "execute_result"
    }
   ],
   "source": [
    "col_obj"
   ]
  },
  {
   "cell_type": "code",
   "execution_count": 7,
   "metadata": {
    "id": "mkCL9b-8hmZ1"
   },
   "outputs": [],
   "source": [
    "X = df.drop(col_obj, axis = 1)\n",
    "y = df[[\"label\"]]"
   ]
  },
  {
   "cell_type": "code",
   "execution_count": 21,
   "metadata": {
    "id": "NfIOX9Lbik_i"
   },
   "outputs": [],
   "source": [
    "X_train, X_test, y_train, y_test = train_test_split(X, y, test_size=0.2, random_state=42)"
   ]
  },
  {
   "cell_type": "markdown",
   "metadata": {
    "id": "60NotS9ehbO5"
   },
   "source": [
    "## Обучение модели"
   ]
  },
  {
   "cell_type": "code",
   "execution_count": 28,
   "metadata": {},
   "outputs": [
    {
     "name": "stderr",
     "output_type": "stream",
     "text": [
      "[flaml.automl: 11-18 12:07:42] {2599} INFO - task = classification\n",
      "[flaml.automl: 11-18 12:07:42] {2601} INFO - Data split method: stratified\n",
      "[flaml.automl: 11-18 12:07:42] {2604} INFO - Evaluation method: holdout\n",
      "[flaml.automl: 11-18 12:07:48] {2726} INFO - Minimizing error metric: 1-roc_auc\n",
      "[flaml.automl: 11-18 12:07:48] {2870} INFO - List of ML learners in AutoML Run: ['xgboost']\n",
      "[flaml.automl: 11-18 12:07:48] {3166} INFO - iteration 0, current learner xgboost\n",
      "/home/worker/.local/lib/python3.9/site-packages/xgboost/sklearn.py:1421: UserWarning: `use_label_encoder` is deprecated in 1.7.0.\n",
      "  warnings.warn(\"`use_label_encoder` is deprecated in 1.7.0.\")\n",
      "[flaml.automl: 11-18 12:07:49] {3296} INFO - Estimated sufficient time budget=2665362s. Estimated necessary time budget=2665s.\n",
      "[flaml.automl: 11-18 12:07:49] {3343} INFO -  at 65.4s,\testimator xgboost's best error=0.2157,\tbest estimator xgboost's best error=0.2157\n",
      "[flaml.automl: 11-18 12:07:49] {3166} INFO - iteration 1, current learner xgboost\n",
      "/home/worker/.local/lib/python3.9/site-packages/xgboost/sklearn.py:1421: UserWarning: `use_label_encoder` is deprecated in 1.7.0.\n",
      "  warnings.warn(\"`use_label_encoder` is deprecated in 1.7.0.\")\n",
      "[flaml.automl: 11-18 12:07:49] {3343} INFO -  at 66.1s,\testimator xgboost's best error=0.1735,\tbest estimator xgboost's best error=0.1735\n",
      "[flaml.automl: 11-18 12:07:49] {3166} INFO - iteration 2, current learner xgboost\n",
      "/home/worker/.local/lib/python3.9/site-packages/xgboost/sklearn.py:1421: UserWarning: `use_label_encoder` is deprecated in 1.7.0.\n",
      "  warnings.warn(\"`use_label_encoder` is deprecated in 1.7.0.\")\n",
      "[flaml.automl: 11-18 12:07:50] {3343} INFO -  at 66.3s,\testimator xgboost's best error=0.0950,\tbest estimator xgboost's best error=0.0950\n",
      "[flaml.automl: 11-18 12:07:50] {3166} INFO - iteration 3, current learner xgboost\n",
      "/home/worker/.local/lib/python3.9/site-packages/xgboost/sklearn.py:1421: UserWarning: `use_label_encoder` is deprecated in 1.7.0.\n",
      "  warnings.warn(\"`use_label_encoder` is deprecated in 1.7.0.\")\n",
      "[flaml.automl: 11-18 12:07:50] {3343} INFO -  at 66.9s,\testimator xgboost's best error=0.0892,\tbest estimator xgboost's best error=0.0892\n",
      "[flaml.automl: 11-18 12:07:50] {3166} INFO - iteration 4, current learner xgboost\n",
      "/home/worker/.local/lib/python3.9/site-packages/xgboost/sklearn.py:1421: UserWarning: `use_label_encoder` is deprecated in 1.7.0.\n",
      "  warnings.warn(\"`use_label_encoder` is deprecated in 1.7.0.\")\n",
      "[flaml.automl: 11-18 12:07:51] {3343} INFO -  at 67.4s,\testimator xgboost's best error=0.0892,\tbest estimator xgboost's best error=0.0892\n",
      "[flaml.automl: 11-18 12:07:51] {3166} INFO - iteration 5, current learner xgboost\n",
      "/home/worker/.local/lib/python3.9/site-packages/xgboost/sklearn.py:1421: UserWarning: `use_label_encoder` is deprecated in 1.7.0.\n",
      "  warnings.warn(\"`use_label_encoder` is deprecated in 1.7.0.\")\n",
      "[flaml.automl: 11-18 12:07:51] {3343} INFO -  at 68.0s,\testimator xgboost's best error=0.0892,\tbest estimator xgboost's best error=0.0892\n",
      "[flaml.automl: 11-18 12:07:51] {3166} INFO - iteration 6, current learner xgboost\n",
      "/home/worker/.local/lib/python3.9/site-packages/xgboost/sklearn.py:1421: UserWarning: `use_label_encoder` is deprecated in 1.7.0.\n",
      "  warnings.warn(\"`use_label_encoder` is deprecated in 1.7.0.\")\n",
      "[flaml.automl: 11-18 12:07:52] {3343} INFO -  at 68.3s,\testimator xgboost's best error=0.0892,\tbest estimator xgboost's best error=0.0892\n",
      "[flaml.automl: 11-18 12:07:52] {3166} INFO - iteration 7, current learner xgboost\n",
      "/home/worker/.local/lib/python3.9/site-packages/xgboost/sklearn.py:1421: UserWarning: `use_label_encoder` is deprecated in 1.7.0.\n",
      "  warnings.warn(\"`use_label_encoder` is deprecated in 1.7.0.\")\n",
      "[flaml.automl: 11-18 12:07:52] {3343} INFO -  at 68.9s,\testimator xgboost's best error=0.0892,\tbest estimator xgboost's best error=0.0892\n",
      "[flaml.automl: 11-18 12:07:52] {3166} INFO - iteration 8, current learner xgboost\n",
      "/home/worker/.local/lib/python3.9/site-packages/xgboost/sklearn.py:1421: UserWarning: `use_label_encoder` is deprecated in 1.7.0.\n",
      "  warnings.warn(\"`use_label_encoder` is deprecated in 1.7.0.\")\n",
      "[flaml.automl: 11-18 12:07:53] {3343} INFO -  at 69.2s,\testimator xgboost's best error=0.0874,\tbest estimator xgboost's best error=0.0874\n",
      "[flaml.automl: 11-18 12:07:53] {3166} INFO - iteration 9, current learner xgboost\n",
      "/home/worker/.local/lib/python3.9/site-packages/xgboost/sklearn.py:1421: UserWarning: `use_label_encoder` is deprecated in 1.7.0.\n",
      "  warnings.warn(\"`use_label_encoder` is deprecated in 1.7.0.\")\n",
      "[flaml.automl: 11-18 12:07:53] {3343} INFO -  at 69.5s,\testimator xgboost's best error=0.0874,\tbest estimator xgboost's best error=0.0874\n",
      "[flaml.automl: 11-18 12:07:53] {3166} INFO - iteration 10, current learner xgboost\n",
      "/home/worker/.local/lib/python3.9/site-packages/xgboost/sklearn.py:1421: UserWarning: `use_label_encoder` is deprecated in 1.7.0.\n",
      "  warnings.warn(\"`use_label_encoder` is deprecated in 1.7.0.\")\n",
      "[flaml.automl: 11-18 12:07:53] {3343} INFO -  at 70.0s,\testimator xgboost's best error=0.0874,\tbest estimator xgboost's best error=0.0874\n",
      "[flaml.automl: 11-18 12:07:53] {3166} INFO - iteration 11, current learner xgboost\n",
      "/home/worker/.local/lib/python3.9/site-packages/xgboost/sklearn.py:1421: UserWarning: `use_label_encoder` is deprecated in 1.7.0.\n",
      "  warnings.warn(\"`use_label_encoder` is deprecated in 1.7.0.\")\n",
      "[flaml.automl: 11-18 12:07:54] {3343} INFO -  at 70.5s,\testimator xgboost's best error=0.0874,\tbest estimator xgboost's best error=0.0874\n",
      "[flaml.automl: 11-18 12:07:54] {3166} INFO - iteration 12, current learner xgboost\n",
      "/home/worker/.local/lib/python3.9/site-packages/xgboost/sklearn.py:1421: UserWarning: `use_label_encoder` is deprecated in 1.7.0.\n",
      "  warnings.warn(\"`use_label_encoder` is deprecated in 1.7.0.\")\n",
      "[flaml.automl: 11-18 12:07:55] {3343} INFO -  at 71.2s,\testimator xgboost's best error=0.0874,\tbest estimator xgboost's best error=0.0874\n",
      "[flaml.automl: 11-18 12:07:55] {3166} INFO - iteration 13, current learner xgboost\n",
      "/home/worker/.local/lib/python3.9/site-packages/xgboost/sklearn.py:1421: UserWarning: `use_label_encoder` is deprecated in 1.7.0.\n",
      "  warnings.warn(\"`use_label_encoder` is deprecated in 1.7.0.\")\n",
      "[flaml.automl: 11-18 12:07:56] {3343} INFO -  at 72.6s,\testimator xgboost's best error=0.0831,\tbest estimator xgboost's best error=0.0831\n",
      "[flaml.automl: 11-18 12:07:56] {3166} INFO - iteration 14, current learner xgboost\n",
      "/home/worker/.local/lib/python3.9/site-packages/xgboost/sklearn.py:1421: UserWarning: `use_label_encoder` is deprecated in 1.7.0.\n",
      "  warnings.warn(\"`use_label_encoder` is deprecated in 1.7.0.\")\n",
      "[flaml.automl: 11-18 12:07:57] {3343} INFO -  at 73.9s,\testimator xgboost's best error=0.0775,\tbest estimator xgboost's best error=0.0775\n",
      "[flaml.automl: 11-18 12:07:57] {3166} INFO - iteration 15, current learner xgboost\n",
      "/home/worker/.local/lib/python3.9/site-packages/xgboost/sklearn.py:1421: UserWarning: `use_label_encoder` is deprecated in 1.7.0.\n",
      "  warnings.warn(\"`use_label_encoder` is deprecated in 1.7.0.\")\n",
      "[flaml.automl: 11-18 12:07:59] {3343} INFO -  at 75.2s,\testimator xgboost's best error=0.0744,\tbest estimator xgboost's best error=0.0744\n",
      "[flaml.automl: 11-18 12:07:59] {3166} INFO - iteration 16, current learner xgboost\n",
      "/home/worker/.local/lib/python3.9/site-packages/xgboost/sklearn.py:1421: UserWarning: `use_label_encoder` is deprecated in 1.7.0.\n",
      "  warnings.warn(\"`use_label_encoder` is deprecated in 1.7.0.\")\n",
      "[flaml.automl: 11-18 12:08:00] {3343} INFO -  at 76.7s,\testimator xgboost's best error=0.0676,\tbest estimator xgboost's best error=0.0676\n",
      "[flaml.automl: 11-18 12:08:00] {3166} INFO - iteration 17, current learner xgboost\n",
      "/home/worker/.local/lib/python3.9/site-packages/xgboost/sklearn.py:1421: UserWarning: `use_label_encoder` is deprecated in 1.7.0.\n",
      "  warnings.warn(\"`use_label_encoder` is deprecated in 1.7.0.\")\n",
      "[flaml.automl: 11-18 12:08:01] {3343} INFO -  at 77.7s,\testimator xgboost's best error=0.0676,\tbest estimator xgboost's best error=0.0676\n",
      "[flaml.automl: 11-18 12:08:01] {3166} INFO - iteration 18, current learner xgboost\n",
      "/home/worker/.local/lib/python3.9/site-packages/xgboost/sklearn.py:1421: UserWarning: `use_label_encoder` is deprecated in 1.7.0.\n",
      "  warnings.warn(\"`use_label_encoder` is deprecated in 1.7.0.\")\n"
     ]
    },
    {
     "name": "stderr",
     "output_type": "stream",
     "text": [
      "[flaml.automl: 11-18 12:08:03] {3343} INFO -  at 79.6s,\testimator xgboost's best error=0.0676,\tbest estimator xgboost's best error=0.0676\n",
      "[flaml.automl: 11-18 12:08:03] {3166} INFO - iteration 19, current learner xgboost\n",
      "/home/worker/.local/lib/python3.9/site-packages/xgboost/sklearn.py:1421: UserWarning: `use_label_encoder` is deprecated in 1.7.0.\n",
      "  warnings.warn(\"`use_label_encoder` is deprecated in 1.7.0.\")\n",
      "[flaml.automl: 11-18 12:08:04] {3343} INFO -  at 81.1s,\testimator xgboost's best error=0.0676,\tbest estimator xgboost's best error=0.0676\n",
      "[flaml.automl: 11-18 12:08:04] {3166} INFO - iteration 20, current learner xgboost\n",
      "/home/worker/.local/lib/python3.9/site-packages/xgboost/sklearn.py:1421: UserWarning: `use_label_encoder` is deprecated in 1.7.0.\n",
      "  warnings.warn(\"`use_label_encoder` is deprecated in 1.7.0.\")\n",
      "[flaml.automl: 11-18 12:08:05] {3343} INFO -  at 82.1s,\testimator xgboost's best error=0.0676,\tbest estimator xgboost's best error=0.0676\n",
      "[flaml.automl: 11-18 12:08:05] {3166} INFO - iteration 21, current learner xgboost\n",
      "/home/worker/.local/lib/python3.9/site-packages/xgboost/sklearn.py:1421: UserWarning: `use_label_encoder` is deprecated in 1.7.0.\n",
      "  warnings.warn(\"`use_label_encoder` is deprecated in 1.7.0.\")\n",
      "[flaml.automl: 11-18 12:08:07] {3343} INFO -  at 83.2s,\testimator xgboost's best error=0.0676,\tbest estimator xgboost's best error=0.0676\n",
      "[flaml.automl: 11-18 12:08:07] {3166} INFO - iteration 22, current learner xgboost\n",
      "/home/worker/.local/lib/python3.9/site-packages/xgboost/sklearn.py:1421: UserWarning: `use_label_encoder` is deprecated in 1.7.0.\n",
      "  warnings.warn(\"`use_label_encoder` is deprecated in 1.7.0.\")\n",
      "[flaml.automl: 11-18 12:08:11] {3343} INFO -  at 87.3s,\testimator xgboost's best error=0.0593,\tbest estimator xgboost's best error=0.0593\n",
      "[flaml.automl: 11-18 12:08:11] {3166} INFO - iteration 23, current learner xgboost\n",
      "/home/worker/.local/lib/python3.9/site-packages/xgboost/sklearn.py:1421: UserWarning: `use_label_encoder` is deprecated in 1.7.0.\n",
      "  warnings.warn(\"`use_label_encoder` is deprecated in 1.7.0.\")\n",
      "[flaml.automl: 11-18 12:08:15] {3343} INFO -  at 91.3s,\testimator xgboost's best error=0.0593,\tbest estimator xgboost's best error=0.0593\n",
      "[flaml.automl: 11-18 12:08:15] {3166} INFO - iteration 24, current learner xgboost\n",
      "/home/worker/.local/lib/python3.9/site-packages/xgboost/sklearn.py:1421: UserWarning: `use_label_encoder` is deprecated in 1.7.0.\n",
      "  warnings.warn(\"`use_label_encoder` is deprecated in 1.7.0.\")\n",
      "[flaml.automl: 11-18 12:08:19] {3343} INFO -  at 95.2s,\testimator xgboost's best error=0.0593,\tbest estimator xgboost's best error=0.0593\n",
      "[flaml.automl: 11-18 12:08:19] {3166} INFO - iteration 25, current learner xgboost\n",
      "/home/worker/.local/lib/python3.9/site-packages/xgboost/sklearn.py:1421: UserWarning: `use_label_encoder` is deprecated in 1.7.0.\n",
      "  warnings.warn(\"`use_label_encoder` is deprecated in 1.7.0.\")\n",
      "[flaml.automl: 11-18 12:08:21] {3343} INFO -  at 97.9s,\testimator xgboost's best error=0.0593,\tbest estimator xgboost's best error=0.0593\n",
      "[flaml.automl: 11-18 12:08:21] {3166} INFO - iteration 26, current learner xgboost\n",
      "/home/worker/.local/lib/python3.9/site-packages/xgboost/sklearn.py:1421: UserWarning: `use_label_encoder` is deprecated in 1.7.0.\n",
      "  warnings.warn(\"`use_label_encoder` is deprecated in 1.7.0.\")\n",
      "[flaml.automl: 11-18 12:08:25] {3343} INFO -  at 101.5s,\testimator xgboost's best error=0.0593,\tbest estimator xgboost's best error=0.0593\n",
      "[flaml.automl: 11-18 12:08:25] {3166} INFO - iteration 27, current learner xgboost\n",
      "/home/worker/.local/lib/python3.9/site-packages/xgboost/sklearn.py:1421: UserWarning: `use_label_encoder` is deprecated in 1.7.0.\n",
      "  warnings.warn(\"`use_label_encoder` is deprecated in 1.7.0.\")\n",
      "[flaml.automl: 11-18 12:08:28] {3343} INFO -  at 105.0s,\testimator xgboost's best error=0.0569,\tbest estimator xgboost's best error=0.0569\n",
      "[flaml.automl: 11-18 12:08:28] {3166} INFO - iteration 28, current learner xgboost\n",
      "/home/worker/.local/lib/python3.9/site-packages/xgboost/sklearn.py:1421: UserWarning: `use_label_encoder` is deprecated in 1.7.0.\n",
      "  warnings.warn(\"`use_label_encoder` is deprecated in 1.7.0.\")\n",
      "[flaml.automl: 11-18 12:08:33] {3343} INFO -  at 109.3s,\testimator xgboost's best error=0.0569,\tbest estimator xgboost's best error=0.0569\n",
      "[flaml.automl: 11-18 12:08:33] {3166} INFO - iteration 29, current learner xgboost\n",
      "/home/worker/.local/lib/python3.9/site-packages/xgboost/sklearn.py:1421: UserWarning: `use_label_encoder` is deprecated in 1.7.0.\n",
      "  warnings.warn(\"`use_label_encoder` is deprecated in 1.7.0.\")\n",
      "[flaml.automl: 11-18 12:08:35] {3343} INFO -  at 112.0s,\testimator xgboost's best error=0.0569,\tbest estimator xgboost's best error=0.0569\n",
      "[flaml.automl: 11-18 12:08:35] {3166} INFO - iteration 30, current learner xgboost\n",
      "/home/worker/.local/lib/python3.9/site-packages/xgboost/sklearn.py:1421: UserWarning: `use_label_encoder` is deprecated in 1.7.0.\n",
      "  warnings.warn(\"`use_label_encoder` is deprecated in 1.7.0.\")\n",
      "[flaml.automl: 11-18 12:08:38] {3343} INFO -  at 115.0s,\testimator xgboost's best error=0.0569,\tbest estimator xgboost's best error=0.0569\n",
      "[flaml.automl: 11-18 12:08:38] {3166} INFO - iteration 31, current learner xgboost\n",
      "/home/worker/.local/lib/python3.9/site-packages/xgboost/sklearn.py:1421: UserWarning: `use_label_encoder` is deprecated in 1.7.0.\n",
      "  warnings.warn(\"`use_label_encoder` is deprecated in 1.7.0.\")\n",
      "[flaml.automl: 11-18 12:08:42] {3343} INFO -  at 118.5s,\testimator xgboost's best error=0.0569,\tbest estimator xgboost's best error=0.0569\n",
      "[flaml.automl: 11-18 12:08:42] {3166} INFO - iteration 32, current learner xgboost\n",
      "/home/worker/.local/lib/python3.9/site-packages/xgboost/sklearn.py:1421: UserWarning: `use_label_encoder` is deprecated in 1.7.0.\n",
      "  warnings.warn(\"`use_label_encoder` is deprecated in 1.7.0.\")\n",
      "[flaml.automl: 11-18 12:08:45] {3343} INFO -  at 122.0s,\testimator xgboost's best error=0.0569,\tbest estimator xgboost's best error=0.0569\n",
      "[flaml.automl: 11-18 12:08:45] {3166} INFO - iteration 33, current learner xgboost\n",
      "/home/worker/.local/lib/python3.9/site-packages/xgboost/sklearn.py:1421: UserWarning: `use_label_encoder` is deprecated in 1.7.0.\n",
      "  warnings.warn(\"`use_label_encoder` is deprecated in 1.7.0.\")\n",
      "[flaml.automl: 11-18 12:09:00] {3343} INFO -  at 136.4s,\testimator xgboost's best error=0.0530,\tbest estimator xgboost's best error=0.0530\n",
      "[flaml.automl: 11-18 12:09:00] {3166} INFO - iteration 34, current learner xgboost\n",
      "/home/worker/.local/lib/python3.9/site-packages/xgboost/sklearn.py:1421: UserWarning: `use_label_encoder` is deprecated in 1.7.0.\n",
      "  warnings.warn(\"`use_label_encoder` is deprecated in 1.7.0.\")\n",
      "[flaml.automl: 11-18 12:09:12] {3343} INFO -  at 148.3s,\testimator xgboost's best error=0.0530,\tbest estimator xgboost's best error=0.0530\n",
      "[flaml.automl: 11-18 12:09:12] {3166} INFO - iteration 35, current learner xgboost\n",
      "/home/worker/.local/lib/python3.9/site-packages/xgboost/sklearn.py:1421: UserWarning: `use_label_encoder` is deprecated in 1.7.0.\n",
      "  warnings.warn(\"`use_label_encoder` is deprecated in 1.7.0.\")\n",
      "[flaml.automl: 11-18 12:09:23] {3343} INFO -  at 159.3s,\testimator xgboost's best error=0.0530,\tbest estimator xgboost's best error=0.0530\n",
      "[flaml.automl: 11-18 12:09:23] {3166} INFO - iteration 36, current learner xgboost\n",
      "/home/worker/.local/lib/python3.9/site-packages/xgboost/sklearn.py:1421: UserWarning: `use_label_encoder` is deprecated in 1.7.0.\n",
      "  warnings.warn(\"`use_label_encoder` is deprecated in 1.7.0.\")\n",
      "[flaml.automl: 11-18 12:09:36] {3343} INFO -  at 172.8s,\testimator xgboost's best error=0.0530,\tbest estimator xgboost's best error=0.0530\n",
      "[flaml.automl: 11-18 12:09:36] {3166} INFO - iteration 37, current learner xgboost\n",
      "/home/worker/.local/lib/python3.9/site-packages/xgboost/sklearn.py:1421: UserWarning: `use_label_encoder` is deprecated in 1.7.0.\n",
      "  warnings.warn(\"`use_label_encoder` is deprecated in 1.7.0.\")\n",
      "[flaml.automl: 11-18 12:09:46] {3343} INFO -  at 182.2s,\testimator xgboost's best error=0.0530,\tbest estimator xgboost's best error=0.0530\n",
      "[flaml.automl: 11-18 12:09:46] {3166} INFO - iteration 38, current learner xgboost\n",
      "/home/worker/.local/lib/python3.9/site-packages/xgboost/sklearn.py:1421: UserWarning: `use_label_encoder` is deprecated in 1.7.0.\n",
      "  warnings.warn(\"`use_label_encoder` is deprecated in 1.7.0.\")\n"
     ]
    },
    {
     "name": "stderr",
     "output_type": "stream",
     "text": [
      "[flaml.automl: 11-18 12:09:53] {3343} INFO -  at 190.0s,\testimator xgboost's best error=0.0530,\tbest estimator xgboost's best error=0.0530\n",
      "[flaml.automl: 11-18 12:09:53] {3166} INFO - iteration 39, current learner xgboost\n",
      "/home/worker/.local/lib/python3.9/site-packages/xgboost/sklearn.py:1421: UserWarning: `use_label_encoder` is deprecated in 1.7.0.\n",
      "  warnings.warn(\"`use_label_encoder` is deprecated in 1.7.0.\")\n",
      "[flaml.automl: 11-18 12:10:04] {3343} INFO -  at 200.5s,\testimator xgboost's best error=0.0530,\tbest estimator xgboost's best error=0.0530\n",
      "[flaml.automl: 11-18 12:10:04] {3166} INFO - iteration 40, current learner xgboost\n",
      "/home/worker/.local/lib/python3.9/site-packages/xgboost/sklearn.py:1421: UserWarning: `use_label_encoder` is deprecated in 1.7.0.\n",
      "  warnings.warn(\"`use_label_encoder` is deprecated in 1.7.0.\")\n",
      "[flaml.automl: 11-18 12:11:31] {3343} INFO -  at 287.5s,\testimator xgboost's best error=0.0512,\tbest estimator xgboost's best error=0.0512\n",
      "/home/worker/.local/lib/python3.9/site-packages/xgboost/sklearn.py:1421: UserWarning: `use_label_encoder` is deprecated in 1.7.0.\n",
      "  warnings.warn(\"`use_label_encoder` is deprecated in 1.7.0.\")\n",
      "[flaml.automl: 11-18 12:12:55] {3602} INFO - retrain xgboost for 84.5s\n",
      "[flaml.automl: 11-18 12:12:55] {3609} INFO - retrained model: XGBClassifier(base_score=0.5, booster='gbtree', callbacks=[],\n",
      "              colsample_bylevel=0.9800022466633321, colsample_bynode=1,\n",
      "              colsample_bytree=1.0, early_stopping_rounds=None,\n",
      "              enable_categorical=False, eval_metric=None, feature_types=None,\n",
      "              gamma=0, gpu_id=-1, grow_policy='lossguide', importance_type=None,\n",
      "              interaction_constraints='', learning_rate=0.05897215588503263,\n",
      "              max_bin=256, max_cat_threshold=64, max_cat_to_onehot=4,\n",
      "              max_delta_step=0, max_depth=0, max_leaves=41,\n",
      "              min_child_weight=0.43830712953778483, missing=nan,\n",
      "              monotone_constraints='()', n_estimators=179, n_jobs=-1,\n",
      "              num_parallel_tree=1, predictor='auto', random_state=0, ...)\n",
      "[flaml.automl: 11-18 12:12:55] {2901} INFO - fit succeeded\n",
      "[flaml.automl: 11-18 12:12:55] {2902} INFO - Time taken to find the best model: 287.4601719379425\n",
      "[flaml.automl: 11-18 12:12:55] {2913} WARNING - Time taken to find the best model is 96% of the provided time budget and not all estimators' hyperparameter search converged. Consider increasing the time budget.\n"
     ]
    }
   ],
   "source": [
    "from flaml import AutoML\n",
    "import numpy as np\n",
    "\n",
    "class_weight = compute_class_weight('balanced', classes=np.unique(y_train['label'].values), y=y_train['label'].values)\n",
    "sample_weight = [class_weight[i] for i in y_train['label'].values]\n",
    "automl1 = AutoML(n_jobs=-1)\n",
    "settings = {\n",
    "    \"time_budget\": 300,  # total running time in seconds\n",
    "    \"estimator_list\": ['xgboost'],  # list of ML learners; we tune XGBoost in this example\n",
    "    \"task\": 'classification',  # task type\n",
    "    \"log_file_name\": 'pochta.log',  # flaml log file\n",
    "    \"seed\": 7654321,    # random seed\n",
    "    'sample_weight': np.squeeze(sample_weight)\n",
    "}\n",
    "automl1.fit(X_train=X_train, y_train=y_train['label'], **settings)"
   ]
  },
  {
   "cell_type": "code",
   "execution_count": 29,
   "metadata": {},
   "outputs": [
    {
     "name": "stderr",
     "output_type": "stream",
     "text": [
      "[flaml.automl: 11-18 12:13:48] {2599} INFO - task = classification\n",
      "[flaml.automl: 11-18 12:13:48] {2601} INFO - Data split method: stratified\n",
      "[flaml.automl: 11-18 12:13:48] {2604} INFO - Evaluation method: holdout\n",
      "[flaml.automl: 11-18 12:13:55] {2726} INFO - Minimizing error metric: 1-roc_auc\n",
      "[flaml.automl: 11-18 12:13:55] {2870} INFO - List of ML learners in AutoML Run: ['xgboost']\n",
      "[flaml.automl: 11-18 12:13:55] {3166} INFO - iteration 0, current learner xgboost\n",
      "/home/worker/.local/lib/python3.9/site-packages/xgboost/sklearn.py:1421: UserWarning: `use_label_encoder` is deprecated in 1.7.0.\n",
      "  warnings.warn(\"`use_label_encoder` is deprecated in 1.7.0.\")\n",
      "[flaml.automl: 11-18 12:13:55] {3296} INFO - Estimated sufficient time budget=2304419s. Estimated necessary time budget=2304s.\n",
      "[flaml.automl: 11-18 12:13:55] {3343} INFO -  at 59.9s,\testimator xgboost's best error=0.2164,\tbest estimator xgboost's best error=0.2164\n",
      "[flaml.automl: 11-18 12:13:55] {3166} INFO - iteration 1, current learner xgboost\n",
      "/home/worker/.local/lib/python3.9/site-packages/xgboost/sklearn.py:1421: UserWarning: `use_label_encoder` is deprecated in 1.7.0.\n",
      "  warnings.warn(\"`use_label_encoder` is deprecated in 1.7.0.\")\n",
      "[flaml.automl: 11-18 12:13:55] {3343} INFO -  at 60.0s,\testimator xgboost's best error=0.1213,\tbest estimator xgboost's best error=0.1213\n",
      "[flaml.automl: 11-18 12:13:55] {3166} INFO - iteration 2, current learner xgboost\n",
      "/home/worker/.local/lib/python3.9/site-packages/xgboost/sklearn.py:1421: UserWarning: `use_label_encoder` is deprecated in 1.7.0.\n",
      "  warnings.warn(\"`use_label_encoder` is deprecated in 1.7.0.\")\n",
      "[flaml.automl: 11-18 12:13:56] {3343} INFO -  at 60.2s,\testimator xgboost's best error=0.1031,\tbest estimator xgboost's best error=0.1031\n",
      "[flaml.automl: 11-18 12:13:56] {3166} INFO - iteration 3, current learner xgboost\n",
      "/home/worker/.local/lib/python3.9/site-packages/xgboost/sklearn.py:1421: UserWarning: `use_label_encoder` is deprecated in 1.7.0.\n",
      "  warnings.warn(\"`use_label_encoder` is deprecated in 1.7.0.\")\n",
      "[flaml.automl: 11-18 12:13:56] {3343} INFO -  at 60.7s,\testimator xgboost's best error=0.0940,\tbest estimator xgboost's best error=0.0940\n",
      "[flaml.automl: 11-18 12:13:56] {3166} INFO - iteration 4, current learner xgboost\n",
      "/home/worker/.local/lib/python3.9/site-packages/xgboost/sklearn.py:1421: UserWarning: `use_label_encoder` is deprecated in 1.7.0.\n",
      "  warnings.warn(\"`use_label_encoder` is deprecated in 1.7.0.\")\n",
      "[flaml.automl: 11-18 12:13:56] {3343} INFO -  at 60.9s,\testimator xgboost's best error=0.0940,\tbest estimator xgboost's best error=0.0940\n",
      "[flaml.automl: 11-18 12:13:56] {3166} INFO - iteration 5, current learner xgboost\n",
      "/home/worker/.local/lib/python3.9/site-packages/xgboost/sklearn.py:1421: UserWarning: `use_label_encoder` is deprecated in 1.7.0.\n",
      "  warnings.warn(\"`use_label_encoder` is deprecated in 1.7.0.\")\n",
      "[flaml.automl: 11-18 12:13:57] {3343} INFO -  at 61.5s,\testimator xgboost's best error=0.0865,\tbest estimator xgboost's best error=0.0865\n",
      "[flaml.automl: 11-18 12:13:57] {3166} INFO - iteration 6, current learner xgboost\n",
      "/home/worker/.local/lib/python3.9/site-packages/xgboost/sklearn.py:1421: UserWarning: `use_label_encoder` is deprecated in 1.7.0.\n",
      "  warnings.warn(\"`use_label_encoder` is deprecated in 1.7.0.\")\n",
      "[flaml.automl: 11-18 12:13:57] {3343} INFO -  at 62.0s,\testimator xgboost's best error=0.0865,\tbest estimator xgboost's best error=0.0865\n",
      "[flaml.automl: 11-18 12:13:57] {3166} INFO - iteration 7, current learner xgboost\n",
      "/home/worker/.local/lib/python3.9/site-packages/xgboost/sklearn.py:1421: UserWarning: `use_label_encoder` is deprecated in 1.7.0.\n",
      "  warnings.warn(\"`use_label_encoder` is deprecated in 1.7.0.\")\n",
      "[flaml.automl: 11-18 12:13:58] {3343} INFO -  at 62.5s,\testimator xgboost's best error=0.0865,\tbest estimator xgboost's best error=0.0865\n",
      "[flaml.automl: 11-18 12:13:58] {3166} INFO - iteration 8, current learner xgboost\n",
      "/home/worker/.local/lib/python3.9/site-packages/xgboost/sklearn.py:1421: UserWarning: `use_label_encoder` is deprecated in 1.7.0.\n",
      "  warnings.warn(\"`use_label_encoder` is deprecated in 1.7.0.\")\n",
      "[flaml.automl: 11-18 12:13:58] {3343} INFO -  at 63.0s,\testimator xgboost's best error=0.0865,\tbest estimator xgboost's best error=0.0865\n",
      "[flaml.automl: 11-18 12:13:58] {3166} INFO - iteration 9, current learner xgboost\n",
      "/home/worker/.local/lib/python3.9/site-packages/xgboost/sklearn.py:1421: UserWarning: `use_label_encoder` is deprecated in 1.7.0.\n",
      "  warnings.warn(\"`use_label_encoder` is deprecated in 1.7.0.\")\n",
      "[flaml.automl: 11-18 12:13:59] {3343} INFO -  at 63.5s,\testimator xgboost's best error=0.0865,\tbest estimator xgboost's best error=0.0865\n",
      "[flaml.automl: 11-18 12:13:59] {3166} INFO - iteration 10, current learner xgboost\n",
      "/home/worker/.local/lib/python3.9/site-packages/xgboost/sklearn.py:1421: UserWarning: `use_label_encoder` is deprecated in 1.7.0.\n",
      "  warnings.warn(\"`use_label_encoder` is deprecated in 1.7.0.\")\n",
      "[flaml.automl: 11-18 12:13:59] {3343} INFO -  at 63.9s,\testimator xgboost's best error=0.0865,\tbest estimator xgboost's best error=0.0865\n",
      "[flaml.automl: 11-18 12:13:59] {3166} INFO - iteration 11, current learner xgboost\n",
      "/home/worker/.local/lib/python3.9/site-packages/xgboost/sklearn.py:1421: UserWarning: `use_label_encoder` is deprecated in 1.7.0.\n",
      "  warnings.warn(\"`use_label_encoder` is deprecated in 1.7.0.\")\n",
      "[flaml.automl: 11-18 12:14:00] {3343} INFO -  at 64.8s,\testimator xgboost's best error=0.0865,\tbest estimator xgboost's best error=0.0865\n",
      "[flaml.automl: 11-18 12:14:00] {3166} INFO - iteration 12, current learner xgboost\n",
      "/home/worker/.local/lib/python3.9/site-packages/xgboost/sklearn.py:1421: UserWarning: `use_label_encoder` is deprecated in 1.7.0.\n",
      "  warnings.warn(\"`use_label_encoder` is deprecated in 1.7.0.\")\n",
      "[flaml.automl: 11-18 12:14:01] {3343} INFO -  at 65.4s,\testimator xgboost's best error=0.0757,\tbest estimator xgboost's best error=0.0757\n",
      "[flaml.automl: 11-18 12:14:01] {3166} INFO - iteration 13, current learner xgboost\n",
      "/home/worker/.local/lib/python3.9/site-packages/xgboost/sklearn.py:1421: UserWarning: `use_label_encoder` is deprecated in 1.7.0.\n",
      "  warnings.warn(\"`use_label_encoder` is deprecated in 1.7.0.\")\n",
      "[flaml.automl: 11-18 12:14:03] {3343} INFO -  at 67.2s,\testimator xgboost's best error=0.0757,\tbest estimator xgboost's best error=0.0757\n",
      "[flaml.automl: 11-18 12:14:03] {3166} INFO - iteration 14, current learner xgboost\n",
      "/home/worker/.local/lib/python3.9/site-packages/xgboost/sklearn.py:1421: UserWarning: `use_label_encoder` is deprecated in 1.7.0.\n",
      "  warnings.warn(\"`use_label_encoder` is deprecated in 1.7.0.\")\n",
      "[flaml.automl: 11-18 12:14:04] {3343} INFO -  at 68.2s,\testimator xgboost's best error=0.0757,\tbest estimator xgboost's best error=0.0757\n",
      "[flaml.automl: 11-18 12:14:04] {3166} INFO - iteration 15, current learner xgboost\n",
      "/home/worker/.local/lib/python3.9/site-packages/xgboost/sklearn.py:1421: UserWarning: `use_label_encoder` is deprecated in 1.7.0.\n",
      "  warnings.warn(\"`use_label_encoder` is deprecated in 1.7.0.\")\n",
      "[flaml.automl: 11-18 12:14:08] {3343} INFO -  at 72.3s,\testimator xgboost's best error=0.0710,\tbest estimator xgboost's best error=0.0710\n",
      "[flaml.automl: 11-18 12:14:08] {3166} INFO - iteration 16, current learner xgboost\n",
      "/home/worker/.local/lib/python3.9/site-packages/xgboost/sklearn.py:1421: UserWarning: `use_label_encoder` is deprecated in 1.7.0.\n",
      "  warnings.warn(\"`use_label_encoder` is deprecated in 1.7.0.\")\n",
      "[flaml.automl: 11-18 12:14:09] {3343} INFO -  at 73.4s,\testimator xgboost's best error=0.0612,\tbest estimator xgboost's best error=0.0612\n",
      "[flaml.automl: 11-18 12:14:09] {3166} INFO - iteration 17, current learner xgboost\n",
      "/home/worker/.local/lib/python3.9/site-packages/xgboost/sklearn.py:1421: UserWarning: `use_label_encoder` is deprecated in 1.7.0.\n",
      "  warnings.warn(\"`use_label_encoder` is deprecated in 1.7.0.\")\n",
      "[flaml.automl: 11-18 12:14:10] {3343} INFO -  at 74.3s,\testimator xgboost's best error=0.0612,\tbest estimator xgboost's best error=0.0612\n",
      "[flaml.automl: 11-18 12:14:10] {3166} INFO - iteration 18, current learner xgboost\n",
      "/home/worker/.local/lib/python3.9/site-packages/xgboost/sklearn.py:1421: UserWarning: `use_label_encoder` is deprecated in 1.7.0.\n",
      "  warnings.warn(\"`use_label_encoder` is deprecated in 1.7.0.\")\n"
     ]
    },
    {
     "name": "stderr",
     "output_type": "stream",
     "text": [
      "[flaml.automl: 11-18 12:14:13] {3343} INFO -  at 77.2s,\testimator xgboost's best error=0.0612,\tbest estimator xgboost's best error=0.0612\n",
      "[flaml.automl: 11-18 12:14:13] {3166} INFO - iteration 19, current learner xgboost\n",
      "/home/worker/.local/lib/python3.9/site-packages/xgboost/sklearn.py:1421: UserWarning: `use_label_encoder` is deprecated in 1.7.0.\n",
      "  warnings.warn(\"`use_label_encoder` is deprecated in 1.7.0.\")\n",
      "[flaml.automl: 11-18 12:14:14] {3343} INFO -  at 78.4s,\testimator xgboost's best error=0.0612,\tbest estimator xgboost's best error=0.0612\n",
      "[flaml.automl: 11-18 12:14:14] {3166} INFO - iteration 20, current learner xgboost\n",
      "/home/worker/.local/lib/python3.9/site-packages/xgboost/sklearn.py:1421: UserWarning: `use_label_encoder` is deprecated in 1.7.0.\n",
      "  warnings.warn(\"`use_label_encoder` is deprecated in 1.7.0.\")\n",
      "[flaml.automl: 11-18 12:14:22] {3343} INFO -  at 86.4s,\testimator xgboost's best error=0.0554,\tbest estimator xgboost's best error=0.0554\n",
      "[flaml.automl: 11-18 12:14:22] {3166} INFO - iteration 21, current learner xgboost\n",
      "/home/worker/.local/lib/python3.9/site-packages/xgboost/sklearn.py:1421: UserWarning: `use_label_encoder` is deprecated in 1.7.0.\n",
      "  warnings.warn(\"`use_label_encoder` is deprecated in 1.7.0.\")\n",
      "[flaml.automl: 11-18 12:14:31] {3343} INFO -  at 95.4s,\testimator xgboost's best error=0.0536,\tbest estimator xgboost's best error=0.0536\n",
      "[flaml.automl: 11-18 12:14:31] {3166} INFO - iteration 22, current learner xgboost\n",
      "/home/worker/.local/lib/python3.9/site-packages/xgboost/sklearn.py:1421: UserWarning: `use_label_encoder` is deprecated in 1.7.0.\n",
      "  warnings.warn(\"`use_label_encoder` is deprecated in 1.7.0.\")\n",
      "[flaml.automl: 11-18 12:14:39] {3343} INFO -  at 103.3s,\testimator xgboost's best error=0.0536,\tbest estimator xgboost's best error=0.0536\n",
      "[flaml.automl: 11-18 12:14:39] {3166} INFO - iteration 23, current learner xgboost\n",
      "/home/worker/.local/lib/python3.9/site-packages/xgboost/sklearn.py:1421: UserWarning: `use_label_encoder` is deprecated in 1.7.0.\n",
      "  warnings.warn(\"`use_label_encoder` is deprecated in 1.7.0.\")\n",
      "[flaml.automl: 11-18 12:14:45] {3343} INFO -  at 109.5s,\testimator xgboost's best error=0.0536,\tbest estimator xgboost's best error=0.0536\n",
      "[flaml.automl: 11-18 12:14:45] {3166} INFO - iteration 24, current learner xgboost\n",
      "/home/worker/.local/lib/python3.9/site-packages/xgboost/sklearn.py:1421: UserWarning: `use_label_encoder` is deprecated in 1.7.0.\n",
      "  warnings.warn(\"`use_label_encoder` is deprecated in 1.7.0.\")\n",
      "[flaml.automl: 11-18 12:14:59] {3343} INFO -  at 123.3s,\testimator xgboost's best error=0.0529,\tbest estimator xgboost's best error=0.0529\n",
      "[flaml.automl: 11-18 12:14:59] {3166} INFO - iteration 25, current learner xgboost\n",
      "/home/worker/.local/lib/python3.9/site-packages/xgboost/sklearn.py:1421: UserWarning: `use_label_encoder` is deprecated in 1.7.0.\n",
      "  warnings.warn(\"`use_label_encoder` is deprecated in 1.7.0.\")\n",
      "[flaml.automl: 11-18 12:15:11] {3343} INFO -  at 135.2s,\testimator xgboost's best error=0.0529,\tbest estimator xgboost's best error=0.0529\n",
      "[flaml.automl: 11-18 12:15:11] {3166} INFO - iteration 26, current learner xgboost\n",
      "/home/worker/.local/lib/python3.9/site-packages/xgboost/sklearn.py:1421: UserWarning: `use_label_encoder` is deprecated in 1.7.0.\n",
      "  warnings.warn(\"`use_label_encoder` is deprecated in 1.7.0.\")\n",
      "[flaml.automl: 11-18 12:15:21] {3343} INFO -  at 146.0s,\testimator xgboost's best error=0.0529,\tbest estimator xgboost's best error=0.0529\n",
      "[flaml.automl: 11-18 12:15:21] {3166} INFO - iteration 27, current learner xgboost\n",
      "/home/worker/.local/lib/python3.9/site-packages/xgboost/sklearn.py:1421: UserWarning: `use_label_encoder` is deprecated in 1.7.0.\n",
      "  warnings.warn(\"`use_label_encoder` is deprecated in 1.7.0.\")\n",
      "[flaml.automl: 11-18 12:15:35] {3343} INFO -  at 159.9s,\testimator xgboost's best error=0.0526,\tbest estimator xgboost's best error=0.0526\n",
      "[flaml.automl: 11-18 12:15:35] {3166} INFO - iteration 28, current learner xgboost\n",
      "/home/worker/.local/lib/python3.9/site-packages/xgboost/sklearn.py:1421: UserWarning: `use_label_encoder` is deprecated in 1.7.0.\n",
      "  warnings.warn(\"`use_label_encoder` is deprecated in 1.7.0.\")\n",
      "[flaml.automl: 11-18 12:15:45] {3343} INFO -  at 169.2s,\testimator xgboost's best error=0.0526,\tbest estimator xgboost's best error=0.0526\n",
      "[flaml.automl: 11-18 12:15:45] {3166} INFO - iteration 29, current learner xgboost\n",
      "/home/worker/.local/lib/python3.9/site-packages/xgboost/sklearn.py:1421: UserWarning: `use_label_encoder` is deprecated in 1.7.0.\n",
      "  warnings.warn(\"`use_label_encoder` is deprecated in 1.7.0.\")\n",
      "[flaml.automl: 11-18 12:15:53] {3343} INFO -  at 177.2s,\testimator xgboost's best error=0.0526,\tbest estimator xgboost's best error=0.0526\n",
      "[flaml.automl: 11-18 12:15:53] {3166} INFO - iteration 30, current learner xgboost\n",
      "/home/worker/.local/lib/python3.9/site-packages/xgboost/sklearn.py:1421: UserWarning: `use_label_encoder` is deprecated in 1.7.0.\n",
      "  warnings.warn(\"`use_label_encoder` is deprecated in 1.7.0.\")\n",
      "[flaml.automl: 11-18 12:16:07] {3343} INFO -  at 191.3s,\testimator xgboost's best error=0.0526,\tbest estimator xgboost's best error=0.0526\n",
      "[flaml.automl: 11-18 12:16:07] {3166} INFO - iteration 31, current learner xgboost\n",
      "/home/worker/.local/lib/python3.9/site-packages/xgboost/sklearn.py:1421: UserWarning: `use_label_encoder` is deprecated in 1.7.0.\n",
      "  warnings.warn(\"`use_label_encoder` is deprecated in 1.7.0.\")\n",
      "[flaml.automl: 11-18 12:16:15] {3343} INFO -  at 199.4s,\testimator xgboost's best error=0.0526,\tbest estimator xgboost's best error=0.0526\n",
      "[flaml.automl: 11-18 12:16:15] {3166} INFO - iteration 32, current learner xgboost\n",
      "/home/worker/.local/lib/python3.9/site-packages/xgboost/sklearn.py:1421: UserWarning: `use_label_encoder` is deprecated in 1.7.0.\n",
      "  warnings.warn(\"`use_label_encoder` is deprecated in 1.7.0.\")\n",
      "[flaml.automl: 11-18 12:16:22] {3343} INFO -  at 207.1s,\testimator xgboost's best error=0.0526,\tbest estimator xgboost's best error=0.0526\n",
      "[flaml.automl: 11-18 12:16:22] {3166} INFO - iteration 33, current learner xgboost\n",
      "/home/worker/.local/lib/python3.9/site-packages/xgboost/sklearn.py:1421: UserWarning: `use_label_encoder` is deprecated in 1.7.0.\n",
      "  warnings.warn(\"`use_label_encoder` is deprecated in 1.7.0.\")\n",
      "[flaml.automl: 11-18 12:16:29] {3343} INFO -  at 213.5s,\testimator xgboost's best error=0.0526,\tbest estimator xgboost's best error=0.0526\n",
      "[flaml.automl: 11-18 12:16:29] {3166} INFO - iteration 34, current learner xgboost\n",
      "/home/worker/.local/lib/python3.9/site-packages/xgboost/sklearn.py:1421: UserWarning: `use_label_encoder` is deprecated in 1.7.0.\n",
      "  warnings.warn(\"`use_label_encoder` is deprecated in 1.7.0.\")\n",
      "[flaml.automl: 11-18 12:16:36] {3343} INFO -  at 221.0s,\testimator xgboost's best error=0.0526,\tbest estimator xgboost's best error=0.0526\n",
      "[flaml.automl: 11-18 12:16:36] {3166} INFO - iteration 35, current learner xgboost\n",
      "/home/worker/.local/lib/python3.9/site-packages/xgboost/sklearn.py:1421: UserWarning: `use_label_encoder` is deprecated in 1.7.0.\n",
      "  warnings.warn(\"`use_label_encoder` is deprecated in 1.7.0.\")\n",
      "[flaml.automl: 11-18 12:17:10] {3343} INFO -  at 254.3s,\testimator xgboost's best error=0.0494,\tbest estimator xgboost's best error=0.0494\n",
      "[flaml.automl: 11-18 12:17:10] {3166} INFO - iteration 36, current learner xgboost\n",
      "/home/worker/.local/lib/python3.9/site-packages/xgboost/sklearn.py:1421: UserWarning: `use_label_encoder` is deprecated in 1.7.0.\n",
      "  warnings.warn(\"`use_label_encoder` is deprecated in 1.7.0.\")\n",
      "[flaml.automl: 11-18 12:17:43] {3343} INFO -  at 287.5s,\testimator xgboost's best error=0.0494,\tbest estimator xgboost's best error=0.0494\n",
      "/home/worker/.local/lib/python3.9/site-packages/xgboost/sklearn.py:1421: UserWarning: `use_label_encoder` is deprecated in 1.7.0.\n",
      "  warnings.warn(\"`use_label_encoder` is deprecated in 1.7.0.\")\n",
      "[flaml.automl: 11-18 12:18:55] {3602} INFO - retrain xgboost for 71.9s\n",
      "[flaml.automl: 11-18 12:18:55] {3609} INFO - retrained model: XGBClassifier(base_score=0.5, booster='gbtree', callbacks=[],\n",
      "              colsample_bylevel=1.0, colsample_bynode=1,\n",
      "              colsample_bytree=0.8423053815228085, early_stopping_rounds=None,\n",
      "              enable_categorical=False, eval_metric=None, feature_types=None,\n",
      "              gamma=0, gpu_id=-1, grow_policy='lossguide', importance_type=None,\n",
      "              interaction_constraints='', learning_rate=0.23665095887692972,\n",
      "              max_bin=256, max_cat_threshold=64, max_cat_to_onehot=4,\n",
      "              max_delta_step=0, max_depth=0, max_leaves=141,\n",
      "              min_child_weight=0.9710435588796631, missing=nan,\n",
      "              monotone_constraints='()', n_estimators=53, n_jobs=-1,\n",
      "              num_parallel_tree=1, predictor='auto', random_state=0, ...)\n"
     ]
    },
    {
     "name": "stderr",
     "output_type": "stream",
     "text": [
      "[flaml.automl: 11-18 12:18:55] {2901} INFO - fit succeeded\n",
      "[flaml.automl: 11-18 12:18:55] {2902} INFO - Time taken to find the best model: 254.28831028938293\n",
      "[flaml.automl: 11-18 12:18:55] {2913} WARNING - Time taken to find the best model is 85% of the provided time budget and not all estimators' hyperparameter search converged. Consider increasing the time budget.\n"
     ]
    }
   ],
   "source": [
    "from flaml import AutoML\n",
    "import numpy as np\n",
    "\n",
    "automl2 = AutoML(n_jobs=-1)\n",
    "settings = {\n",
    "    \"time_budget\": 300,  # total running time in seconds\n",
    "    \"estimator_list\": ['xgboost'],  # list of ML learners; we tune XGBoost in this example\n",
    "    \"task\": 'classification',  # task type\n",
    "    \"log_file_name\": 'pochta.log',  # flaml log file\n",
    "    \"seed\": 7654321,    # random seed\n",
    "}\n",
    "automl2.fit(X_train=X_train, y_train=y_train['label'], **settings)"
   ]
  },
  {
   "cell_type": "code",
   "execution_count": null,
   "metadata": {},
   "outputs": [],
   "source": []
  },
  {
   "cell_type": "code",
   "execution_count": 30,
   "metadata": {},
   "outputs": [
    {
     "name": "stdout",
     "output_type": "stream",
     "text": [
      "1: Accuracy: 82.57|0.88335\n",
      "2: Accuracy: 97.25|0.54368\n",
      "MAX: Accuracy: 82.57|0.88335\n",
      "MIN: Accuracy: 97.25|0.54368\n"
     ]
    }
   ],
   "source": [
    "from sklearn.metrics import accuracy_score, recall_score, roc_auc_score\n",
    "from sklearn.utils.class_weight import compute_class_weight\n",
    "\n",
    "def compet_score(y_true, y_pred, average='macro'):\n",
    "    return 0.1 * recall_score(y_true, y_pred, average=average) + 0.9 * roc_auc_score(y_true, y_pred, average=average)\n",
    "\n",
    "yhat1 = automl1.predict(X_test)\n",
    "accuracy = accuracy_score(y_test, yhat1)\n",
    "compete = compet_score(y_test, yhat1)\n",
    "print('1: Accuracy: %.2f|%.5f' % (accuracy*100,compete))\n",
    "\n",
    "yhat2 = automl2.predict(X_test)\n",
    "accuracy = accuracy_score(y_test, yhat2)\n",
    "compete = compet_score(y_test, yhat2)\n",
    "print('2: Accuracy: %.2f|%.5f' % (accuracy*100,compete))\n",
    "\n",
    "yhatj_max = np.max([yhat1, yhat2], axis=0)\n",
    "yhatj_min = np.min([yhat1, yhat2], axis=0)\n",
    "\n",
    "accuracy = accuracy_score(y_test, yhatj_max)\n",
    "compete = compet_score(y_test, yhatj_max)\n",
    "print('MAX: Accuracy: %.2f|%.5f' % (accuracy*100,compete))\n",
    "\n",
    "accuracy = accuracy_score(y_test, yhatj_min)\n",
    "compete = compet_score(y_test, yhatj_min)\n",
    "print('MIN: Accuracy: %.2f|%.5f' % (accuracy*100,compete))\n"
   ]
  },
  {
   "cell_type": "code",
   "execution_count": 23,
   "metadata": {},
   "outputs": [
    {
     "name": "stdout",
     "output_type": "stream",
     "text": [
      "Accuracy: 97.22|0.52293\n"
     ]
    }
   ],
   "source": [
    "from sklearn.metrics import accuracy_score, recall_score, roc_auc_score\n",
    "from sklearn.utils.class_weight import compute_class_weight\n",
    "\n",
    "def compet_score(y_true, y_pred, average='macro'):\n",
    "    return 0.1 * recall_score(y_true, y_pred, average=average) + 0.9 * roc_auc_score(y_true, y_pred, average=average)\n",
    "\n",
    "yhat = automl.predict(X_test)\n",
    "accuracy = accuracy_score(y_test, yhat)\n",
    "compete = compet_score(y_test, yhat)\n",
    "print('Accuracy: %.2f|%.5f' % (accuracy*100,compete))"
   ]
  },
  {
   "cell_type": "code",
   "execution_count": 24,
   "metadata": {},
   "outputs": [
    {
     "data": {
      "text/plain": [
       "2214"
      ]
     },
     "execution_count": 24,
     "metadata": {},
     "output_type": "execute_result"
    }
   ],
   "source": [
    "yhat.sum()"
   ]
  },
  {
   "cell_type": "markdown",
   "metadata": {
    "id": "DrF2LeJIBNYN"
   },
   "source": [
    "## Оценка точности"
   ]
  },
  {
   "cell_type": "code",
   "execution_count": 38,
   "metadata": {},
   "outputs": [
    {
     "name": "stderr",
     "output_type": "stream",
     "text": [
      "/tmp/ipykernel_1613681/898706469.py:1: DtypeWarning: Columns (2) have mixed types. Specify dtype option on import or set low_memory=False.\n",
      "  X_infer = pd.read_csv('../data/test_dataset_test.csv')\n"
     ]
    }
   ],
   "source": [
    "X_infer = pd.read_csv('../data/test_dataset_test.csv')"
   ]
  },
  {
   "cell_type": "code",
   "execution_count": 42,
   "metadata": {},
   "outputs": [],
   "source": [
    "X_infer[\"is_in_yandex\"] = X_infer[\"is_in_yandex\"].astype('category').cat.codes\n",
    "X_infer[\"is_return\"] = X_infer[\"is_return\"].astype('category').cat.codes\n",
    "X_infer['label'] = -1 \n",
    "X_i = X_infer.drop(col_obj, axis = 1)"
   ]
  },
  {
   "cell_type": "code",
   "execution_count": 45,
   "metadata": {},
   "outputs": [
    {
     "data": {
      "text/plain": [
       "(6000000, 22)"
      ]
     },
     "execution_count": 45,
     "metadata": {},
     "output_type": "execute_result"
    }
   ],
   "source": [
    "X.shape"
   ]
  },
  {
   "cell_type": "code",
   "execution_count": 46,
   "metadata": {},
   "outputs": [
    {
     "data": {
      "text/plain": [
       "(4000000, 22)"
      ]
     },
     "execution_count": 46,
     "metadata": {},
     "output_type": "execute_result"
    }
   ],
   "source": [
    "X_i.shape"
   ]
  },
  {
   "cell_type": "code",
   "execution_count": 47,
   "metadata": {
    "id": "5Ph7vcoxBNYO"
   },
   "outputs": [],
   "source": [
    "pred = clf.predict(X_i)"
   ]
  },
  {
   "cell_type": "code",
   "execution_count": 17,
   "metadata": {
    "id": "wfAZwwLXBNYO"
   },
   "outputs": [],
   "source": [
    "from sklearn.metrics import recall_score\n",
    "\n",
    "score = recall_score(y_test, pred, average = \"macro\" )"
   ]
  },
  {
   "cell_type": "code",
   "execution_count": 18,
   "metadata": {
    "colab": {
     "base_uri": "https://localhost:8080/"
    },
    "id": "sX6yHTGUBNYO",
    "outputId": "ab784c04-2e8c-4595-a968-d22f9923b4bd"
   },
   "outputs": [
    {
     "name": "stdout",
     "output_type": "stream",
     "text": [
      "Recall 0.6237713316068727\n"
     ]
    }
   ],
   "source": [
    "print(\"Recall\", score)"
   ]
  },
  {
   "cell_type": "code",
   "execution_count": 20,
   "metadata": {},
   "outputs": [
    {
     "data": {
      "text/html": [
       "<div>\n",
       "<style scoped>\n",
       "    .dataframe tbody tr th:only-of-type {\n",
       "        vertical-align: middle;\n",
       "    }\n",
       "\n",
       "    .dataframe tbody tr th {\n",
       "        vertical-align: top;\n",
       "    }\n",
       "\n",
       "    .dataframe thead th {\n",
       "        text-align: right;\n",
       "    }\n",
       "</style>\n",
       "<table border=\"1\" class=\"dataframe\">\n",
       "  <thead>\n",
       "    <tr style=\"text-align: right;\">\n",
       "      <th></th>\n",
       "      <th>priority</th>\n",
       "      <th>class</th>\n",
       "      <th>is_in_yandex</th>\n",
       "      <th>is_return</th>\n",
       "      <th>weight</th>\n",
       "      <th>mailtype</th>\n",
       "      <th>mailctg</th>\n",
       "      <th>mailrank</th>\n",
       "      <th>directctg</th>\n",
       "      <th>transport_pay</th>\n",
       "      <th>...</th>\n",
       "      <th>price_mfi</th>\n",
       "      <th>dist_qty_oper_login_1</th>\n",
       "      <th>total_qty_oper_login_1</th>\n",
       "      <th>total_qty_oper_login_0</th>\n",
       "      <th>total_qty_over_index_and_type</th>\n",
       "      <th>total_qty_over_index</th>\n",
       "      <th>is_wrong_sndr_name</th>\n",
       "      <th>is_wrong_rcpn_name</th>\n",
       "      <th>is_wrong_phone_number</th>\n",
       "      <th>is_wrong_address</th>\n",
       "    </tr>\n",
       "  </thead>\n",
       "  <tbody>\n",
       "    <tr>\n",
       "      <th>1324896</th>\n",
       "      <td>7503.0</td>\n",
       "      <td>0.0</td>\n",
       "      <td>1</td>\n",
       "      <td>0</td>\n",
       "      <td>328.0</td>\n",
       "      <td>5.0</td>\n",
       "      <td>1.0</td>\n",
       "      <td>0.0</td>\n",
       "      <td>2.0</td>\n",
       "      <td>31.29</td>\n",
       "      <td>...</td>\n",
       "      <td>90.0</td>\n",
       "      <td>106.0</td>\n",
       "      <td>17348074.0</td>\n",
       "      <td>3469387.0</td>\n",
       "      <td>20817461.0</td>\n",
       "      <td>20821109.0</td>\n",
       "      <td>0</td>\n",
       "      <td>0</td>\n",
       "      <td>0</td>\n",
       "      <td>0</td>\n",
       "    </tr>\n",
       "    <tr>\n",
       "      <th>3566176</th>\n",
       "      <td>7503.0</td>\n",
       "      <td>0.0</td>\n",
       "      <td>1</td>\n",
       "      <td>0</td>\n",
       "      <td>65.0</td>\n",
       "      <td>5.0</td>\n",
       "      <td>1.0</td>\n",
       "      <td>0.0</td>\n",
       "      <td>2.0</td>\n",
       "      <td>0.00</td>\n",
       "      <td>...</td>\n",
       "      <td>2213.0</td>\n",
       "      <td>914.0</td>\n",
       "      <td>48856658.0</td>\n",
       "      <td>83318932.0</td>\n",
       "      <td>132175590.0</td>\n",
       "      <td>136819803.0</td>\n",
       "      <td>0</td>\n",
       "      <td>1</td>\n",
       "      <td>1</td>\n",
       "      <td>0</td>\n",
       "    </tr>\n",
       "    <tr>\n",
       "      <th>1109043</th>\n",
       "      <td>7504.0</td>\n",
       "      <td>3.0</td>\n",
       "      <td>2</td>\n",
       "      <td>0</td>\n",
       "      <td>120.0</td>\n",
       "      <td>5.0</td>\n",
       "      <td>1.0</td>\n",
       "      <td>0.0</td>\n",
       "      <td>1.0</td>\n",
       "      <td>0.00</td>\n",
       "      <td>...</td>\n",
       "      <td>200.0</td>\n",
       "      <td>12.0</td>\n",
       "      <td>12859.0</td>\n",
       "      <td>3865.0</td>\n",
       "      <td>16724.0</td>\n",
       "      <td>401875.0</td>\n",
       "      <td>0</td>\n",
       "      <td>0</td>\n",
       "      <td>0</td>\n",
       "      <td>0</td>\n",
       "    </tr>\n",
       "    <tr>\n",
       "      <th>4286042</th>\n",
       "      <td>7506.0</td>\n",
       "      <td>0.0</td>\n",
       "      <td>1</td>\n",
       "      <td>0</td>\n",
       "      <td>818.0</td>\n",
       "      <td>5.0</td>\n",
       "      <td>1.0</td>\n",
       "      <td>0.0</td>\n",
       "      <td>2.0</td>\n",
       "      <td>53.94</td>\n",
       "      <td>...</td>\n",
       "      <td>100.0</td>\n",
       "      <td>186.0</td>\n",
       "      <td>60613352.0</td>\n",
       "      <td>10648.0</td>\n",
       "      <td>60624000.0</td>\n",
       "      <td>75592387.0</td>\n",
       "      <td>0</td>\n",
       "      <td>1</td>\n",
       "      <td>0</td>\n",
       "      <td>0</td>\n",
       "    </tr>\n",
       "    <tr>\n",
       "      <th>5395174</th>\n",
       "      <td>7506.0</td>\n",
       "      <td>0.0</td>\n",
       "      <td>2</td>\n",
       "      <td>0</td>\n",
       "      <td>70.0</td>\n",
       "      <td>5.0</td>\n",
       "      <td>1.0</td>\n",
       "      <td>0.0</td>\n",
       "      <td>2.0</td>\n",
       "      <td>0.00</td>\n",
       "      <td>...</td>\n",
       "      <td>60.0</td>\n",
       "      <td>33.0</td>\n",
       "      <td>978296.0</td>\n",
       "      <td>314191.0</td>\n",
       "      <td>1292487.0</td>\n",
       "      <td>2060695.0</td>\n",
       "      <td>0</td>\n",
       "      <td>0</td>\n",
       "      <td>0</td>\n",
       "      <td>0</td>\n",
       "    </tr>\n",
       "    <tr>\n",
       "      <th>...</th>\n",
       "      <td>...</td>\n",
       "      <td>...</td>\n",
       "      <td>...</td>\n",
       "      <td>...</td>\n",
       "      <td>...</td>\n",
       "      <td>...</td>\n",
       "      <td>...</td>\n",
       "      <td>...</td>\n",
       "      <td>...</td>\n",
       "      <td>...</td>\n",
       "      <td>...</td>\n",
       "      <td>...</td>\n",
       "      <td>...</td>\n",
       "      <td>...</td>\n",
       "      <td>...</td>\n",
       "      <td>...</td>\n",
       "      <td>...</td>\n",
       "      <td>...</td>\n",
       "      <td>...</td>\n",
       "      <td>...</td>\n",
       "      <td>...</td>\n",
       "    </tr>\n",
       "    <tr>\n",
       "      <th>4798287</th>\n",
       "      <td>7506.0</td>\n",
       "      <td>0.0</td>\n",
       "      <td>1</td>\n",
       "      <td>0</td>\n",
       "      <td>144.0</td>\n",
       "      <td>5.0</td>\n",
       "      <td>1.0</td>\n",
       "      <td>0.0</td>\n",
       "      <td>2.0</td>\n",
       "      <td>0.00</td>\n",
       "      <td>...</td>\n",
       "      <td>0.0</td>\n",
       "      <td>137.0</td>\n",
       "      <td>20699228.0</td>\n",
       "      <td>49882.0</td>\n",
       "      <td>20749110.0</td>\n",
       "      <td>218661166.0</td>\n",
       "      <td>0</td>\n",
       "      <td>0</td>\n",
       "      <td>0</td>\n",
       "      <td>0</td>\n",
       "    </tr>\n",
       "    <tr>\n",
       "      <th>3609658</th>\n",
       "      <td>7503.0</td>\n",
       "      <td>0.0</td>\n",
       "      <td>1</td>\n",
       "      <td>0</td>\n",
       "      <td>50.0</td>\n",
       "      <td>5.0</td>\n",
       "      <td>1.0</td>\n",
       "      <td>0.0</td>\n",
       "      <td>2.0</td>\n",
       "      <td>0.00</td>\n",
       "      <td>...</td>\n",
       "      <td>100.0</td>\n",
       "      <td>1089.0</td>\n",
       "      <td>64270133.0</td>\n",
       "      <td>116432632.0</td>\n",
       "      <td>180702765.0</td>\n",
       "      <td>188407812.0</td>\n",
       "      <td>0</td>\n",
       "      <td>0</td>\n",
       "      <td>0</td>\n",
       "      <td>0</td>\n",
       "    </tr>\n",
       "    <tr>\n",
       "      <th>4935563</th>\n",
       "      <td>7506.0</td>\n",
       "      <td>0.0</td>\n",
       "      <td>1</td>\n",
       "      <td>0</td>\n",
       "      <td>372.0</td>\n",
       "      <td>5.0</td>\n",
       "      <td>1.0</td>\n",
       "      <td>0.0</td>\n",
       "      <td>2.0</td>\n",
       "      <td>0.00</td>\n",
       "      <td>...</td>\n",
       "      <td>1100.0</td>\n",
       "      <td>184.0</td>\n",
       "      <td>67541214.0</td>\n",
       "      <td>7870.0</td>\n",
       "      <td>67549084.0</td>\n",
       "      <td>72981134.0</td>\n",
       "      <td>0</td>\n",
       "      <td>0</td>\n",
       "      <td>0</td>\n",
       "      <td>0</td>\n",
       "    </tr>\n",
       "    <tr>\n",
       "      <th>4815170</th>\n",
       "      <td>7506.0</td>\n",
       "      <td>0.0</td>\n",
       "      <td>1</td>\n",
       "      <td>0</td>\n",
       "      <td>96.0</td>\n",
       "      <td>5.0</td>\n",
       "      <td>1.0</td>\n",
       "      <td>0.0</td>\n",
       "      <td>2.0</td>\n",
       "      <td>0.00</td>\n",
       "      <td>...</td>\n",
       "      <td>10.0</td>\n",
       "      <td>105.0</td>\n",
       "      <td>15091338.0</td>\n",
       "      <td>4972424.0</td>\n",
       "      <td>20063762.0</td>\n",
       "      <td>39988530.0</td>\n",
       "      <td>0</td>\n",
       "      <td>0</td>\n",
       "      <td>0</td>\n",
       "      <td>0</td>\n",
       "    </tr>\n",
       "    <tr>\n",
       "      <th>2696947</th>\n",
       "      <td>7506.0</td>\n",
       "      <td>0.0</td>\n",
       "      <td>1</td>\n",
       "      <td>0</td>\n",
       "      <td>34.0</td>\n",
       "      <td>5.0</td>\n",
       "      <td>1.0</td>\n",
       "      <td>0.0</td>\n",
       "      <td>2.0</td>\n",
       "      <td>0.00</td>\n",
       "      <td>...</td>\n",
       "      <td>100.0</td>\n",
       "      <td>137.0</td>\n",
       "      <td>20699228.0</td>\n",
       "      <td>49882.0</td>\n",
       "      <td>20749110.0</td>\n",
       "      <td>218661166.0</td>\n",
       "      <td>0</td>\n",
       "      <td>0</td>\n",
       "      <td>0</td>\n",
       "      <td>0</td>\n",
       "    </tr>\n",
       "  </tbody>\n",
       "</table>\n",
       "<p>1800000 rows × 22 columns</p>\n",
       "</div>"
      ],
      "text/plain": [
       "         priority  class  is_in_yandex  is_return  weight  mailtype  mailctg  \\\n",
       "1324896    7503.0    0.0             1          0   328.0       5.0      1.0   \n",
       "3566176    7503.0    0.0             1          0    65.0       5.0      1.0   \n",
       "1109043    7504.0    3.0             2          0   120.0       5.0      1.0   \n",
       "4286042    7506.0    0.0             1          0   818.0       5.0      1.0   \n",
       "5395174    7506.0    0.0             2          0    70.0       5.0      1.0   \n",
       "...           ...    ...           ...        ...     ...       ...      ...   \n",
       "4798287    7506.0    0.0             1          0   144.0       5.0      1.0   \n",
       "3609658    7503.0    0.0             1          0    50.0       5.0      1.0   \n",
       "4935563    7506.0    0.0             1          0   372.0       5.0      1.0   \n",
       "4815170    7506.0    0.0             1          0    96.0       5.0      1.0   \n",
       "2696947    7506.0    0.0             1          0    34.0       5.0      1.0   \n",
       "\n",
       "         mailrank  directctg  transport_pay  ...  price_mfi  \\\n",
       "1324896       0.0        2.0          31.29  ...       90.0   \n",
       "3566176       0.0        2.0           0.00  ...     2213.0   \n",
       "1109043       0.0        1.0           0.00  ...      200.0   \n",
       "4286042       0.0        2.0          53.94  ...      100.0   \n",
       "5395174       0.0        2.0           0.00  ...       60.0   \n",
       "...           ...        ...            ...  ...        ...   \n",
       "4798287       0.0        2.0           0.00  ...        0.0   \n",
       "3609658       0.0        2.0           0.00  ...      100.0   \n",
       "4935563       0.0        2.0           0.00  ...     1100.0   \n",
       "4815170       0.0        2.0           0.00  ...       10.0   \n",
       "2696947       0.0        2.0           0.00  ...      100.0   \n",
       "\n",
       "         dist_qty_oper_login_1  total_qty_oper_login_1  \\\n",
       "1324896                  106.0              17348074.0   \n",
       "3566176                  914.0              48856658.0   \n",
       "1109043                   12.0                 12859.0   \n",
       "4286042                  186.0              60613352.0   \n",
       "5395174                   33.0                978296.0   \n",
       "...                        ...                     ...   \n",
       "4798287                  137.0              20699228.0   \n",
       "3609658                 1089.0              64270133.0   \n",
       "4935563                  184.0              67541214.0   \n",
       "4815170                  105.0              15091338.0   \n",
       "2696947                  137.0              20699228.0   \n",
       "\n",
       "         total_qty_oper_login_0  total_qty_over_index_and_type  \\\n",
       "1324896               3469387.0                     20817461.0   \n",
       "3566176              83318932.0                    132175590.0   \n",
       "1109043                  3865.0                        16724.0   \n",
       "4286042                 10648.0                     60624000.0   \n",
       "5395174                314191.0                      1292487.0   \n",
       "...                         ...                            ...   \n",
       "4798287                 49882.0                     20749110.0   \n",
       "3609658             116432632.0                    180702765.0   \n",
       "4935563                  7870.0                     67549084.0   \n",
       "4815170               4972424.0                     20063762.0   \n",
       "2696947                 49882.0                     20749110.0   \n",
       "\n",
       "         total_qty_over_index  is_wrong_sndr_name  is_wrong_rcpn_name  \\\n",
       "1324896            20821109.0                   0                   0   \n",
       "3566176           136819803.0                   0                   1   \n",
       "1109043              401875.0                   0                   0   \n",
       "4286042            75592387.0                   0                   1   \n",
       "5395174             2060695.0                   0                   0   \n",
       "...                       ...                 ...                 ...   \n",
       "4798287           218661166.0                   0                   0   \n",
       "3609658           188407812.0                   0                   0   \n",
       "4935563            72981134.0                   0                   0   \n",
       "4815170            39988530.0                   0                   0   \n",
       "2696947           218661166.0                   0                   0   \n",
       "\n",
       "         is_wrong_phone_number  is_wrong_address  \n",
       "1324896                      0                 0  \n",
       "3566176                      1                 0  \n",
       "1109043                      0                 0  \n",
       "4286042                      0                 0  \n",
       "5395174                      0                 0  \n",
       "...                        ...               ...  \n",
       "4798287                      0                 0  \n",
       "3609658                      0                 0  \n",
       "4935563                      0                 0  \n",
       "4815170                      0                 0  \n",
       "2696947                      0                 0  \n",
       "\n",
       "[1800000 rows x 22 columns]"
      ]
     },
     "execution_count": 20,
     "metadata": {},
     "output_type": "execute_result"
    }
   ],
   "source": [
    "X_test"
   ]
  },
  {
   "cell_type": "code",
   "execution_count": 53,
   "metadata": {},
   "outputs": [],
   "source": [
    "submission = {}\n",
    "submission['id'] = X_infer['id'].values\n",
    "submission['label'] = pred"
   ]
  },
  {
   "cell_type": "code",
   "execution_count": 54,
   "metadata": {},
   "outputs": [],
   "source": [
    "pd.DataFrame(submission).to_csv('../solutions/baseline.csv',index=None)"
   ]
  },
  {
   "cell_type": "code",
   "execution_count": 34,
   "metadata": {},
   "outputs": [],
   "source": [
    "sample = pd.read_csv('../solutions/sample_solution.csv')"
   ]
  },
  {
   "cell_type": "code",
   "execution_count": 50,
   "metadata": {},
   "outputs": [
    {
     "data": {
      "text/plain": [
       "(4000000, 2)"
      ]
     },
     "execution_count": 50,
     "metadata": {},
     "output_type": "execute_result"
    }
   ],
   "source": [
    "pd.DataFrame(submission).shape"
   ]
  },
  {
   "cell_type": "code",
   "execution_count": 35,
   "metadata": {},
   "outputs": [
    {
     "data": {
      "text/plain": [
       "(4000000, 2)"
      ]
     },
     "execution_count": 35,
     "metadata": {},
     "output_type": "execute_result"
    }
   ],
   "source": [
    "sample.shape"
   ]
  }
 ],
 "metadata": {
  "colab": {
   "provenance": []
  },
  "kernelspec": {
   "display_name": "Python 3 (ipykernel)",
   "language": "python",
   "name": "python3"
  },
  "language_info": {
   "codemirror_mode": {
    "name": "ipython",
    "version": 3
   },
   "file_extension": ".py",
   "mimetype": "text/x-python",
   "name": "python",
   "nbconvert_exporter": "python",
   "pygments_lexer": "ipython3",
   "version": "3.9.15"
  }
 },
 "nbformat": 4,
 "nbformat_minor": 1
}
